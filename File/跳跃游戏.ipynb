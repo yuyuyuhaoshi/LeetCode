{
 "cells": [
  {
   "cell_type": "code",
   "execution_count": 21,
   "metadata": {},
   "outputs": [],
   "source": [
    "nums = [2,3,1,1,4]"
   ]
  },
  {
   "cell_type": "code",
   "execution_count": 35,
   "metadata": {},
   "outputs": [],
   "source": [
    "jumps = [True,]\n"
   ]
  },
  {
   "cell_type": "code",
   "execution_count": 36,
   "metadata": {},
   "outputs": [
    {
     "name": "stdout",
     "output_type": "stream",
     "text": [
      "-----------\n",
      "i: 1\n",
      "j: 0\n",
      "2\n",
      "-----------\n",
      "i: 2\n",
      "j: 0\n",
      "2\n",
      "-----------\n",
      "i: 3\n",
      "j: 0\n",
      "2\n",
      "j: 1\n",
      "4\n",
      "-----------\n",
      "i: 4\n",
      "j: 0\n",
      "2\n",
      "j: 1\n",
      "4\n"
     ]
    }
   ],
   "source": [
    "for i in range(1, len(nums)):\n",
    "    print(\"-----------\")\n",
    "    print(\"i: {}\".format(i))\n",
    "    jumps.append(False)\n",
    "    for j in range(i):\n",
    "        print(\"j: {}\".format(j))\n",
    "        print(j + nums[j])\n",
    "        if jumps[j] and j + nums[j] >= i:\n",
    "            \n",
    "            jumps[i] = True\n",
    "            break"
   ]
  },
  {
   "cell_type": "code",
   "execution_count": 37,
   "metadata": {},
   "outputs": [
    {
     "data": {
      "text/plain": [
       "True"
      ]
     },
     "execution_count": 37,
     "metadata": {},
     "output_type": "execute_result"
    }
   ],
   "source": [
    "jumps[-1]"
   ]
  },
  {
   "cell_type": "code",
   "execution_count": null,
   "metadata": {},
   "outputs": [],
   "source": []
  }
 ],
 "metadata": {
  "kernelspec": {
   "display_name": "Python 3",
   "language": "python",
   "name": "python3"
  },
  "language_info": {
   "codemirror_mode": {
    "name": "ipython",
    "version": 3
   },
   "file_extension": ".py",
   "mimetype": "text/x-python",
   "name": "python",
   "nbconvert_exporter": "python",
   "pygments_lexer": "ipython3",
   "version": "3.7.5"
  }
 },
 "nbformat": 4,
 "nbformat_minor": 2
}
