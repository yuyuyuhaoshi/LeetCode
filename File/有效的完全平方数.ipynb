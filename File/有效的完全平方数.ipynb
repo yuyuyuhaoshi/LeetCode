{
 "cells": [
  {
   "cell_type": "code",
   "execution_count": 14,
   "metadata": {},
   "outputs": [
    {
     "name": "stdout",
     "output_type": "stream",
     "text": [
      "1\n",
      "2\n",
      "2\n",
      "False\n"
     ]
    }
   ],
   "source": [
    "class Solution:\n",
    "    def isPerfectSquare(self, num: int) -> bool:\n",
    "        if num < 2:\n",
    "            return True\n",
    "\n",
    "        left = 0\n",
    "        right = num / 2\n",
    "\n",
    "        while left <= right:\n",
    "            guess = left + (right - left) // 2\n",
    "            if guess **2 == num:\n",
    "                return True\n",
    "            elif guess **2 > num:\n",
    "                right = guess - 1\n",
    "            else:\n",
    "                left = guess + 1\n",
    "                \n",
    "        return False\n"
   ]
  },
  {
   "cell_type": "code",
   "execution_count": null,
   "metadata": {},
   "outputs": [],
   "source": [
    "num = 4\n",
    "\n",
    "if num < 2:\n",
    "    print(1)\n",
    "\n",
    "left = 0\n",
    "right = num // 2\n",
    "\n",
    "\n",
    "while left <= right:\n",
    "    guess = left + (right - left) // 2\n",
    "    print(guess)\n",
    "    if guess **2 == num:\n",
    "        print(2)\n",
    "        break\n",
    "    elif guess **2 > num:\n",
    "        right = guess\n",
    "    else:\n",
    "        left = guess + 1\n",
    "        \n",
    "print(False)"
   ]
  },
  {
   "cell_type": "code",
   "execution_count": null,
   "metadata": {},
   "outputs": [],
   "source": []
  }
 ],
 "metadata": {
  "kernelspec": {
   "display_name": "Python 3",
   "language": "python",
   "name": "python3"
  },
  "language_info": {
   "codemirror_mode": {
    "name": "ipython",
    "version": 3
   },
   "file_extension": ".py",
   "mimetype": "text/x-python",
   "name": "python",
   "nbconvert_exporter": "python",
   "pygments_lexer": "ipython3",
   "version": "3.7.5"
  }
 },
 "nbformat": 4,
 "nbformat_minor": 2
}
