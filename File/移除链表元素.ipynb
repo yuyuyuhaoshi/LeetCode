{
 "cells": [
  {
   "cell_type": "code",
   "execution_count": null,
   "metadata": {},
   "outputs": [],
   "source": [
    "class ListNode:\n",
    "    def __init__(self, x):\n",
    "        self.val = x\n",
    "        self.next = None\n",
    "\n",
    "class Solution:\n",
    "    def removeElements(self, head: ListNode, val: int) -> ListNode:\n",
    "        if not head:\n",
    "            # 空列表\n",
    "            return head\n",
    "        while head and head.val == val:\n",
    "            # 删除的是头节点 空列表\n",
    "            head = head.next\n",
    "        tmp = head\n",
    "        while tmp and tmp.next:\n",
    "            if tmp.next.val == val:\n",
    "                tmp.next = tmp.next.next\n",
    "            else:\n",
    "                tmp = tmp.next\n",
    "        return head"
   ]
  }
 ],
 "metadata": {
  "kernelspec": {
   "display_name": "Python 3",
   "language": "python",
   "name": "python3"
  },
  "language_info": {
   "codemirror_mode": {
    "name": "ipython",
    "version": 3
   },
   "file_extension": ".py",
   "mimetype": "text/x-python",
   "name": "python",
   "nbconvert_exporter": "python",
   "pygments_lexer": "ipython3",
   "version": "3.7.5"
  }
 },
 "nbformat": 4,
 "nbformat_minor": 2
}
