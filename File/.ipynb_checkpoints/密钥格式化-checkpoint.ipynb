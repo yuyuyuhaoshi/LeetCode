{
 "cells": [
  {
   "cell_type": "code",
   "execution_count": 8,
   "metadata": {},
   "outputs": [],
   "source": [
    "class Solution:\n",
    "    def licenseKeyFormatting(self, S: str, K: int) -> str:\n",
    "        S = \"\".join(S.split(\"-\")).upper()\n",
    "        s_len = len(S)\n",
    "\n",
    "        mod = s_len % K\n",
    "        result = []\n",
    "        if S[:mod]:\n",
    "            result.append(S[:mod])\n",
    "\n",
    "        sut_text = \"\"\n",
    "        count = 0\n",
    "        \n",
    "        for i in S[mod:]:\n",
    "            if count == K:\n",
    "                result.append(sut_text)\n",
    "                count = 0\n",
    "                sut_text = ''\n",
    "            \n",
    "            sut_text += i\n",
    "            count += 1\n",
    "        if sut_text:\n",
    "            result.append(sut_text)\n",
    "            \n",
    "        return \"-\".join(result)"
   ]
  },
  {
   "cell_type": "code",
   "execution_count": null,
   "metadata": {},
   "outputs": [],
   "source": []
  }
 ],
 "metadata": {
  "kernelspec": {
   "display_name": "Python 3",
   "language": "python",
   "name": "python3"
  },
  "language_info": {
   "codemirror_mode": {
    "name": "ipython",
    "version": 3
   },
   "file_extension": ".py",
   "mimetype": "text/x-python",
   "name": "python",
   "nbconvert_exporter": "python",
   "pygments_lexer": "ipython3",
   "version": "3.7.5"
  }
 },
 "nbformat": 4,
 "nbformat_minor": 2
}
