{
 "cells": [
  {
   "cell_type": "code",
   "execution_count": null,
   "metadata": {},
   "outputs": [],
   "source": [
    "```\n",
    "给定一组字符，使用原地算法将其压缩。\n",
    "\n",
    "压缩后的长度必须始终小于或等于原数组长度。\n",
    "\n",
    "数组的每个元素应该是长度为1 的字符（不是 int 整数类型）。\n",
    "\n",
    "在完成原地修改输入数组后，返回数组的新长度。\n",
    "\n",
    " \n",
    "\n",
    "进阶：\n",
    "你能否仅使用O(1) 空间解决问题？\n",
    "\n",
    " \n",
    "\n",
    "示例 1：\n",
    "\n",
    "输入：\n",
    "[\"a\",\"a\",\"b\",\"b\",\"c\",\"c\",\"c\"]\n",
    "\n",
    "输出：\n",
    "返回6，输入数组的前6个字符应该是：[\"a\",\"2\",\"b\",\"2\",\"c\",\"3\"]\n",
    "\n",
    "说明：\n",
    "\"aa\"被\"a2\"替代。\"bb\"被\"b2\"替代。\"ccc\"被\"c3\"替代。\n",
    "示例 2：\n",
    "\n",
    "输入：\n",
    "[\"a\"]\n",
    "\n",
    "输出：\n",
    "返回1，输入数组的前1个字符应该是：[\"a\"]\n",
    "\n",
    "说明：\n",
    "没有任何字符串被替代。\n",
    "示例 3：\n",
    "\n",
    "输入：\n",
    "[\"a\",\"b\",\"b\",\"b\",\"b\",\"b\",\"b\",\"b\",\"b\",\"b\",\"b\",\"b\",\"b\"]\n",
    "\n",
    "输出：\n",
    "返回4，输入数组的前4个字符应该是：[\"a\",\"b\",\"1\",\"2\"]。\n",
    "\n",
    "说明：\n",
    "由于字符\"a\"不重复，所以不会被压缩。\"bbbbbbbbbbbb\"被“b12”替代。\n",
    "注意每个数字在数组中都有它自己的位置。\n",
    "注意：\n",
    "\n",
    "所有字符都有一个ASCII值在[35, 126]区间内。\n",
    "1 <= len(chars) <= 1000。\n",
    "\n",
    "来源：力扣（LeetCode）\n",
    "链接：https://leetcode-cn.com/problems/string-compression\n",
    "著作权归领扣网络所有。商业转载请联系官方授权，非商业转载请注明出处。\n",
    "```"
   ]
  },
  {
   "cell_type": "code",
   "execution_count": 19,
   "metadata": {},
   "outputs": [
    {
     "name": "stdout",
     "output_type": "stream",
     "text": [
      "b\n",
      "['a', 'a', 2, 'c']\n"
     ]
    }
   ],
   "source": [
    "# TODO\n",
    "chars = [\"a\",\"a\",\"b\",\"b\",\"c\",\"c\",\"c\"]\n",
    "\n",
    "chars_len = len(chars)\n",
    "\n",
    "count = 0\n",
    "l = list()\n",
    "latest_char = chars[0]\n",
    "\n",
    "for index, char in enumerate(chars[:-1]):\n",
    "\n",
    "    if char == chars[index + 1] :\n",
    "        count += 1\n",
    "    else:\n",
    "        \n",
    "        if count == 1:\n",
    "            l.append(latest_char)\n",
    "        else:\n",
    "            l.append(latest_char)\n",
    "            l.append(count)\n",
    "            count = 0\n",
    "        latest_char = char\n",
    "print(latest_char)        \n",
    "if latest_char == chars[-1]:\n",
    "    print(latest_char)\n",
    "    count += 1\n",
    "    l.append(char)\n",
    "    l.append(count)\n",
    "else:\n",
    "    if count == 1:\n",
    "        l.append(latest_char)\n",
    "    else:\n",
    "        l.append(chars[-1])\n",
    "\n",
    "print(l)\n",
    "        \n",
    "    \n",
    "    \n",
    "        \n",
    "        "
   ]
  },
  {
   "cell_type": "code",
   "execution_count": 1,
   "metadata": {},
   "outputs": [
    {
     "name": "stdout",
     "output_type": "stream",
     "text": [
      "0\n",
      "1\n",
      "2\n",
      "3\n",
      "4\n",
      "5\n",
      "6\n",
      "7\n",
      "8\n"
     ]
    }
   ],
   "source": [
    "for i in range(10-1):\n",
    "    print(i)"
   ]
  },
  {
   "cell_type": "code",
   "execution_count": 7,
   "metadata": {},
   "outputs": [
    {
     "data": {
      "text/plain": [
       "91"
      ]
     },
     "execution_count": 7,
     "metadata": {},
     "output_type": "execute_result"
    }
   ],
   "source": [
    "ord('~') - ord('#')"
   ]
  },
  {
   "cell_type": "code",
   "execution_count": 9,
   "metadata": {},
   "outputs": [],
   "source": [
    "l = [1,2,3][:-1]"
   ]
  },
  {
   "cell_type": "code",
   "execution_count": 10,
   "metadata": {},
   "outputs": [
    {
     "data": {
      "text/plain": [
       "[1, 2]"
      ]
     },
     "execution_count": 10,
     "metadata": {},
     "output_type": "execute_result"
    }
   ],
   "source": [
    "l"
   ]
  },
  {
   "cell_type": "code",
   "execution_count": null,
   "metadata": {},
   "outputs": [],
   "source": []
  }
 ],
 "metadata": {
  "kernelspec": {
   "display_name": "Python 3",
   "language": "python",
   "name": "python3"
  },
  "language_info": {
   "codemirror_mode": {
    "name": "ipython",
    "version": 3
   },
   "file_extension": ".py",
   "mimetype": "text/x-python",
   "name": "python",
   "nbconvert_exporter": "python",
   "pygments_lexer": "ipython3",
   "version": "3.7.5"
  }
 },
 "nbformat": 4,
 "nbformat_minor": 2
}
