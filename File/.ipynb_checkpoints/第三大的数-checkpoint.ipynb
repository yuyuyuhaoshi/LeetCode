{
 "cells": [
  {
   "cell_type": "code",
   "execution_count": null,
   "metadata": {},
   "outputs": [],
   "source": [
    "```\n",
    "给定一个非空数组，返回此数组中第三大的数。如果不存在，则返回数组中最大的数。要求算法时间复杂度必须是O(n)。\n",
    "\n",
    "示例 1:\n",
    "\n",
    "输入: [3, 2, 1]\n",
    "\n",
    "输出: 1\n",
    "\n",
    "解释: 第三大的数是 1.\n",
    "示例 2:\n",
    "\n",
    "输入: [1, 2]\n",
    "\n",
    "输出: 2\n",
    "\n",
    "解释: 第三大的数不存在, 所以返回最大的数 2 .\n",
    "示例 3:\n",
    "\n",
    "输入: [2, 2, 3, 1]\n",
    "\n",
    "输出: 1\n",
    "\n",
    "解释: 注意，要求返回第三大的数，是指第三大且唯一出现的数。\n",
    "存在两个值为2的数，它们都排第二。\n",
    "```"
   ]
  },
  {
   "cell_type": "code",
   "execution_count": 77,
   "metadata": {},
   "outputs": [],
   "source": [
    "class Solution:\n",
    "    def thirdMax(self, nums) -> int:\n",
    "        first = second = third =float('-inf')\n",
    "\n",
    "        for num in nums:\n",
    "            if num > third:\n",
    "                if num > second:\n",
    "                    if num > first:\n",
    "                        third = second\n",
    "                        second = first\n",
    "                        first = num\n",
    "                    elif num < first:\n",
    "                        # 比second 大, 比first小\n",
    "                        third = second\n",
    "                        second = num\n",
    "\n",
    "                elif num < second:\n",
    "                    third = num\n",
    "\n",
    "\n",
    "        if third == float('-inf'):\n",
    "            return first\n",
    "\n",
    "        return third\n",
    "                    \n",
    "                    "
   ]
  },
  {
   "cell_type": "code",
   "execution_count": 78,
   "metadata": {},
   "outputs": [],
   "source": [
    "s = Solution()"
   ]
  },
  {
   "cell_type": "code",
   "execution_count": 79,
   "metadata": {},
   "outputs": [
    {
     "data": {
      "text/plain": [
       "1"
      ]
     },
     "execution_count": 79,
     "metadata": {},
     "output_type": "execute_result"
    }
   ],
   "source": [
    "s.thirdMax([3,2,1])"
   ]
  },
  {
   "cell_type": "code",
   "execution_count": 80,
   "metadata": {},
   "outputs": [
    {
     "data": {
      "text/plain": [
       "5"
      ]
     },
     "execution_count": 80,
     "metadata": {},
     "output_type": "execute_result"
    }
   ],
   "source": [
    "s.thirdMax([5,2,2])"
   ]
  },
  {
   "cell_type": "code",
   "execution_count": 81,
   "metadata": {},
   "outputs": [
    {
     "data": {
      "text/plain": [
       "2"
      ]
     },
     "execution_count": 81,
     "metadata": {},
     "output_type": "execute_result"
    }
   ],
   "source": [
    "s.thirdMax([1, 2])"
   ]
  },
  {
   "cell_type": "code",
   "execution_count": 82,
   "metadata": {},
   "outputs": [
    {
     "data": {
      "text/plain": [
       "2"
      ]
     },
     "execution_count": 82,
     "metadata": {},
     "output_type": "execute_result"
    }
   ],
   "source": [
    "s.thirdMax([2,2,2,1])"
   ]
  },
  {
   "cell_type": "code",
   "execution_count": null,
   "metadata": {},
   "outputs": [],
   "source": []
  },
  {
   "cell_type": "code",
   "execution_count": null,
   "metadata": {},
   "outputs": [],
   "source": []
  }
 ],
 "metadata": {
  "kernelspec": {
   "display_name": "Python 3",
   "language": "python",
   "name": "python3"
  },
  "language_info": {
   "codemirror_mode": {
    "name": "ipython",
    "version": 3
   },
   "file_extension": ".py",
   "mimetype": "text/x-python",
   "name": "python",
   "nbconvert_exporter": "python",
   "pygments_lexer": "ipython3",
   "version": "3.7.5"
  }
 },
 "nbformat": 4,
 "nbformat_minor": 2
}
