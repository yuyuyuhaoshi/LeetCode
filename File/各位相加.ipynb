{
 "cells": [
  {
   "cell_type": "code",
   "execution_count": 1,
   "metadata": {},
   "outputs": [],
   "source": [
    "class Solution:\n",
    "    def addDigits(self, num: int) -> int:\n",
    "        num_list = [int(i) for i in str(num)]\n",
    "        \n",
    "        n = sum(num_list)\n",
    "        \n",
    "        while len(str(n)) > 1:\n",
    "            n = self.addDigits(n)\n",
    "        return n\n",
    "            "
   ]
  },
  {
   "cell_type": "code",
   "execution_count": 2,
   "metadata": {},
   "outputs": [],
   "source": [
    "s = Solution()\n"
   ]
  },
  {
   "cell_type": "code",
   "execution_count": 3,
   "metadata": {},
   "outputs": [
    {
     "data": {
      "text/plain": [
       "2"
      ]
     },
     "execution_count": 3,
     "metadata": {},
     "output_type": "execute_result"
    }
   ],
   "source": [
    "s.addDigits(38)"
   ]
  },
  {
   "cell_type": "code",
   "execution_count": null,
   "metadata": {},
   "outputs": [],
   "source": [
    "# 2位数\n",
    "# num = a * 10 + b\n",
    "# num1 = a + b\n",
    "# num - num1 = 9 * a;\n",
    "# 缩小了a 个9\n",
    "# 3位数\n",
    "# num = a * 100 + b * 10 + c\n",
    "# num1 = a + b + c\n",
    "# num - num1 = 99 * a + 9 * b\n",
    "# 缩小了(11 * a + b) * 9\n",
    "# 开始到结果相差9的倍数\n",
    "\n"
   ]
  },
  {
   "cell_type": "code",
   "execution_count": 4,
   "metadata": {},
   "outputs": [
    {
     "data": {
      "text/plain": [
       "2"
      ]
     },
     "execution_count": 4,
     "metadata": {},
     "output_type": "execute_result"
    }
   ],
   "source": [
    "class Solution:\n",
    "    def addDigits(self, num: int) -> int:\n",
    "        if not num:\n",
    "            return 0\n",
    "        \n",
    "        return num % 9 if num % 9 else 9\n",
    "            \n",
    "s = Solution()\n",
    "s.addDigits(38)"
   ]
  },
  {
   "cell_type": "code",
   "execution_count": null,
   "metadata": {},
   "outputs": [],
   "source": []
  }
 ],
 "metadata": {
  "kernelspec": {
   "display_name": "Python 3",
   "language": "python",
   "name": "python3"
  },
  "language_info": {
   "codemirror_mode": {
    "name": "ipython",
    "version": 3
   },
   "file_extension": ".py",
   "mimetype": "text/x-python",
   "name": "python",
   "nbconvert_exporter": "python",
   "pygments_lexer": "ipython3",
   "version": "3.7.5"
  }
 },
 "nbformat": 4,
 "nbformat_minor": 2
}
