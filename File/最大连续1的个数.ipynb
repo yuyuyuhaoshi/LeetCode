{
 "cells": [
  {
   "cell_type": "code",
   "execution_count": 6,
   "metadata": {},
   "outputs": [],
   "source": [
    "class Solution:\n",
    "    def findMaxConsecutiveOnes(self, nums: List[int]) -> int:\n",
    "        if not nums:\n",
    "            return 0\n",
    "\n",
    "        num_text = \"\".join([str(i) for i in nums])\n",
    "\n",
    "        one_text_list = num_text.split(\"0\")\n",
    "        one_text_list.sort(key=lambda x: len(x))\n",
    "        return len(one_text_list[-1])"
   ]
  },
  {
   "cell_type": "code",
   "execution_count": 9,
   "metadata": {},
   "outputs": [
    {
     "data": {
      "text/plain": [
       "2"
      ]
     },
     "execution_count": 9,
     "metadata": {},
     "output_type": "execute_result"
    }
   ],
   "source": [
    "class Solution:\n",
    "    def findMaxConsecutiveOnes(self, nums: List[int]) -> int:\n",
    "        if not nums:\n",
    "            return 0\n",
    "        result = list()\n",
    "        count = 0\n",
    "        for num in nums:\n",
    "            if num:\n",
    "                count+=1\n",
    "            else:\n",
    "                result.append(count)\n",
    "                count = 0\n",
    "        result.append(count)\n",
    "        return max(result)"
   ]
  }
 ],
 "metadata": {
  "kernelspec": {
   "display_name": "Python 3",
   "language": "python",
   "name": "python3"
  },
  "language_info": {
   "codemirror_mode": {
    "name": "ipython",
    "version": 3
   },
   "file_extension": ".py",
   "mimetype": "text/x-python",
   "name": "python",
   "nbconvert_exporter": "python",
   "pygments_lexer": "ipython3",
   "version": "3.6.6"
  }
 },
 "nbformat": 4,
 "nbformat_minor": 2
}
